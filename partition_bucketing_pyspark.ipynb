{
  "nbformat": 4,
  "nbformat_minor": 0,
  "metadata": {
    "colab": {
      "provenance": [],
      "collapsed_sections": []
    },
    "kernelspec": {
      "name": "python3",
      "display_name": "Python 3"
    },
    "language_info": {
      "name": "python"
    }
  },
  "cells": [
    {
      "cell_type": "code",
      "source": [
        "!pip install pyspark py4j"
      ],
      "metadata": {
        "colab": {
          "base_uri": "https://localhost:8080/"
        },
        "id": "knG2GOjxpzAD",
        "outputId": "1ea81079-9f4a-4397-dfe2-ddd2da243b5b"
      },
      "execution_count": null,
      "outputs": [
        {
          "output_type": "stream",
          "name": "stdout",
          "text": [
            "Looking in indexes: https://pypi.org/simple, https://us-python.pkg.dev/colab-wheels/public/simple/\n",
            "Collecting pyspark\n",
            "  Downloading pyspark-3.3.0.tar.gz (281.3 MB)\n",
            "\u001b[K     |████████████████████████████████| 281.3 MB 46 kB/s \n",
            "\u001b[?25hCollecting py4j\n",
            "  Downloading py4j-0.10.9.7-py2.py3-none-any.whl (200 kB)\n",
            "\u001b[K     |████████████████████████████████| 200 kB 55.6 MB/s \n",
            "\u001b[?25h  Downloading py4j-0.10.9.5-py2.py3-none-any.whl (199 kB)\n",
            "\u001b[K     |████████████████████████████████| 199 kB 60.3 MB/s \n",
            "\u001b[?25hBuilding wheels for collected packages: pyspark\n",
            "  Building wheel for pyspark (setup.py) ... \u001b[?25l\u001b[?25hdone\n",
            "  Created wheel for pyspark: filename=pyspark-3.3.0-py2.py3-none-any.whl size=281764026 sha256=b4040bcfffb9109c427670ddc7f3be5b96b67ed6b6f5881de3f69bced1bf551f\n",
            "  Stored in directory: /root/.cache/pip/wheels/7a/8e/1b/f73a52650d2e5f337708d9f6a1750d451a7349a867f928b885\n",
            "Successfully built pyspark\n",
            "Installing collected packages: py4j, pyspark\n",
            "Successfully installed py4j-0.10.9.5 pyspark-3.3.0\n"
          ]
        }
      ]
    },
    {
      "cell_type": "code",
      "source": [
        "!apt-get install openjdk-8-jdk-headless -qq > /dev/null\n",
        "\n",
        "!wget -q https://dlcdn.apache.org/spark/spark-3.2.2/spark-3.2.2-bin-hadoop3.2.tgz \n",
        "\n",
        "!tar xf spark-3.2.2-bin-hadoop3.2.tgz\n",
        "\n",
        "!pip install -q findspark\n",
        "\n",
        "import os\n",
        "\n",
        "os.environ[\"JAVA_HOME\"] = \"/usr/lib/jvm/java-8-openjdk-amd64\"\n",
        "\n",
        "os.environ[\"SPARK_HOME\"] = \"/content/spark-3.2.2-bin-hadoop3.2\"\n",
        "\n",
        "import findspark\n",
        "\n",
        "findspark.init()\n",
        "\n",
        "findspark.find()\n",
        "\n",
        "from pyspark.context import SparkContext\n",
        "from pyspark.sql.session import SparkSession\n",
        "from pyspark.sql import SparkSession\n",
        "from pyspark.sql.types import IntegerType, DateType, StringType, StructType, StructField\n",
        "from datetime import date, timedelta\n",
        "import pyspark.sql.functions as F\n",
        "\n",
        "\n",
        "spark = SparkSession.builder.appName('chandra').getOrCreate()"
      ],
      "metadata": {
        "id": "fX_PyhLup8jn"
      },
      "execution_count": null,
      "outputs": []
    },
    {
      "cell_type": "code",
      "source": [
        "!pwd"
      ],
      "metadata": {
        "colab": {
          "base_uri": "https://localhost:8080/"
        },
        "id": "V-LfbbaAqwT1",
        "outputId": "24dbff45-4488-4440-a4b7-bd6b4391c93b"
      },
      "execution_count": null,
      "outputs": [
        {
          "output_type": "stream",
          "name": "stdout",
          "text": [
            "/content\n"
          ]
        }
      ]
    },
    {
      "cell_type": "code",
      "source": [
        "!mkdir hmc_project"
      ],
      "metadata": {
        "id": "Ndk90r-4rn1m"
      },
      "execution_count": null,
      "outputs": []
    },
    {
      "cell_type": "code",
      "source": [
        "cd hmc_project"
      ],
      "metadata": {
        "colab": {
          "base_uri": "https://localhost:8080/"
        },
        "id": "rmB_8VuvrzQr",
        "outputId": "dec0ffc1-c9aa-4ca5-9a1d-5c655b1ba1b4"
      },
      "execution_count": null,
      "outputs": [
        {
          "output_type": "stream",
          "name": "stdout",
          "text": [
            "/content/hmc_project\n"
          ]
        }
      ]
    },
    {
      "cell_type": "code",
      "source": [
        "from google.colab import files\n",
        "data = files.upload()"
      ],
      "metadata": {
        "colab": {
          "resources": {
            "http://localhost:8080/nbextensions/google.colab/files.js": {
              "data": "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",
              "ok": true,
              "headers": [
                [
                  "content-type",
                  "application/javascript"
                ]
              ],
              "status": 200,
              "status_text": ""
            }
          },
          "base_uri": "https://localhost:8080/",
          "height": 73
        },
        "id": "zEDG79XwsLs-",
        "outputId": "9040b25a-4514-4a0d-8280-08b86676de24"
      },
      "execution_count": null,
      "outputs": [
        {
          "output_type": "display_data",
          "data": {
            "text/plain": [
              "<IPython.core.display.HTML object>"
            ],
            "text/html": [
              "\n",
              "     <input type=\"file\" id=\"files-39fdd91d-e2f5-46d9-9847-38d6a410ea0e\" name=\"files[]\" multiple disabled\n",
              "        style=\"border:none\" />\n",
              "     <output id=\"result-39fdd91d-e2f5-46d9-9847-38d6a410ea0e\">\n",
              "      Upload widget is only available when the cell has been executed in the\n",
              "      current browser session. Please rerun this cell to enable.\n",
              "      </output>\n",
              "      <script src=\"/nbextensions/google.colab/files.js\"></script> "
            ]
          },
          "metadata": {}
        },
        {
          "output_type": "stream",
          "name": "stdout",
          "text": [
            "Saving udemy_courses.csv to udemy_courses.csv\n"
          ]
        }
      ]
    },
    {
      "cell_type": "code",
      "source": [
        "df = spark.read.csv('/content/hmc_project/udemy_courses.csv',header = True)"
      ],
      "metadata": {
        "id": "PbXnhf2at6M0"
      },
      "execution_count": null,
      "outputs": []
    },
    {
      "cell_type": "code",
      "source": [
        "df.show()"
      ],
      "metadata": {
        "colab": {
          "base_uri": "https://localhost:8080/"
        },
        "id": "GUifmvobtagq",
        "outputId": "dbc3ff7b-206f-40a2-fe05-9f9e8d76d78e"
      },
      "execution_count": null,
      "outputs": [
        {
          "output_type": "stream",
          "name": "stdout",
          "text": [
            "+---------+--------------------+--------------------+-------+-----+---------------+-----------+------------+------------------+------------------+--------------------+----------------+\n",
            "|course_id|        course_title|                 url|is_paid|price|num_subscribers|num_reviews|num_lectures|             level|  content_duration| published_timestamp|         subject|\n",
            "+---------+--------------------+--------------------+-------+-----+---------------+-----------+------------+------------------+------------------+--------------------+----------------+\n",
            "|  1070968|Ultimate Investme...|https://www.udemy...|   True|  200|           2147|         23|          51|        All Levels|               1.5|2017-01-18T20:58:58Z|Business Finance|\n",
            "|  1113822|Complete GST Cour...|https://www.udemy...|   True|   75|           2792|        923|         274|        All Levels|              39.0|2017-03-09T16:34:20Z|Business Finance|\n",
            "|  1006314|Financial Modelin...|https://www.udemy...|   True|   45|           2174|         74|          51|Intermediate Level|               2.5|2016-12-19T19:26:30Z|Business Finance|\n",
            "|  1210588|Beginner to Pro -...|https://www.udemy...|   True|   95|           2451|         11|          36|        All Levels|               3.0|2017-05-30T20:07:24Z|Business Finance|\n",
            "|  1011058|How To Maximize Y...|https://www.udemy...|   True|  200|           1276|         45|          26|Intermediate Level|               2.0|2016-12-13T14:57:18Z|Business Finance|\n",
            "|   192870|Trading Penny Sto...|https://www.udemy...|   True|  150|           9221|        138|          25|        All Levels|               3.0|2014-05-02T15:13:30Z|Business Finance|\n",
            "|   739964|Investing And Tra...|https://www.udemy...|   True|   65|           1540|        178|          26|    Beginner Level|               1.0|2016-02-21T18:23:12Z|Business Finance|\n",
            "|   403100|Trading Stock Cha...|https://www.udemy...|   True|   95|           2917|        148|          23|        All Levels|               2.5|2015-01-30T22:13:03Z|Business Finance|\n",
            "|   476268|Options Trading 3...|https://www.udemy...|   True|  195|           5172|         34|          38|      Expert Level|               2.5|2015-05-28T00:14:03Z|Business Finance|\n",
            "|  1167710|The Only Investme...|https://www.udemy...|   True|  200|            827|         14|          15|        All Levels|               1.0|2017-04-18T18:13:32Z|Business Finance|\n",
            "|   592338|Forex Trading Sec...|https://www.udemy...|   True|  200|           4284|         93|          76|        All Levels|               5.0|2015-09-11T16:47:02Z|Business Finance|\n",
            "|   975046|Trading Options W...|https://www.udemy...|   True|  200|           1380|         42|          17|        All Levels|               1.0|2016-10-18T22:52:31Z|Business Finance|\n",
            "|   742602|Financial Managem...|https://www.udemy...|   True|   30|           3607|         21|          19|        All Levels|               1.5|2016-02-03T18:04:01Z|Business Finance|\n",
            "|   794151|Forex Trading Cou...|https://www.udemy...|   True|  195|           4061|         52|          16|        All Levels|               2.0|2016-03-16T15:40:19Z|Business Finance|\n",
            "|  1196544|Python Algo Tradi...|https://www.udemy...|   True|  200|            294|         19|          42|        All Levels|               7.0|2017-04-28T16:41:44Z|Business Finance|\n",
            "|   504036|Short Selling: Le...|https://www.udemy...|   True|   75|           2276|        106|          19|Intermediate Level|               1.5|2015-06-22T21:18:35Z|Business Finance|\n",
            "|   719698|Basic Technical A...|https://www.udemy...|   True|   20|           4919|         79|          16|    Beginner Level|               1.5|2016-01-08T17:21:26Z|Business Finance|\n",
            "|   564966|The Complete Char...|https://www.udemy...|   True|  200|           2666|        115|          52|        All Levels|               4.0|2015-08-10T21:07:35Z|Business Finance|\n",
            "|   606928|7 Deadly Mistakes...|https://www.udemy...|   True|   50|           5354|         24|          23|        All Levels|               1.5|2015-09-21T18:10:34Z|Business Finance|\n",
            "|    58977|Financial Stateme...|https://www.udemy...|   True|   95|           8095|        249|          12|    Beginner Level|0.5833333333333334|2013-06-09T00:21:26Z|Business Finance|\n",
            "+---------+--------------------+--------------------+-------+-----+---------------+-----------+------------+------------------+------------------+--------------------+----------------+\n",
            "only showing top 20 rows\n",
            "\n"
          ]
        }
      ]
    },
    {
      "cell_type": "code",
      "source": [
        "df.columns"
      ],
      "metadata": {
        "colab": {
          "base_uri": "https://localhost:8080/"
        },
        "id": "DFonZf6JugU1",
        "outputId": "83dd6502-22a6-41a9-827e-0a5171928c17"
      },
      "execution_count": null,
      "outputs": [
        {
          "output_type": "execute_result",
          "data": {
            "text/plain": [
              "['course_id',\n",
              " 'course_title',\n",
              " 'url',\n",
              " 'is_paid',\n",
              " 'price',\n",
              " 'num_subscribers',\n",
              " 'num_reviews',\n",
              " 'num_lectures',\n",
              " 'level',\n",
              " 'content_duration',\n",
              " 'published_timestamp',\n",
              " 'subject']"
            ]
          },
          "metadata": {},
          "execution_count": 14
        }
      ]
    },
    {
      "cell_type": "code",
      "source": [
        "df.write.mode('overwrite').partitionBy('level').option('path', '/content/hmc_project/table').saveAsTable('Table1')"
      ],
      "metadata": {
        "id": "bhJWAMJdupTz"
      },
      "execution_count": null,
      "outputs": []
    },
    {
      "cell_type": "code",
      "source": [
        "df1 = spark.table('Table1')"
      ],
      "metadata": {
        "id": "8SSUl9n6vYFf"
      },
      "execution_count": null,
      "outputs": []
    },
    {
      "cell_type": "code",
      "source": [
        "df1.show()"
      ],
      "metadata": {
        "colab": {
          "base_uri": "https://localhost:8080/"
        },
        "id": "y_y4P4JJwEvc",
        "outputId": "3db6631d-ae2d-4bb5-eff8-882a17e39aeb"
      },
      "execution_count": null,
      "outputs": [
        {
          "output_type": "stream",
          "name": "stdout",
          "text": [
            "+---------+--------------------+--------------------+-------+-----+---------------+-----------+------------+----------------+--------------------+----------------+----------+\n",
            "|course_id|        course_title|                 url|is_paid|price|num_subscribers|num_reviews|num_lectures|content_duration| published_timestamp|         subject|     level|\n",
            "+---------+--------------------+--------------------+-------+-----+---------------+-----------+------------+----------------+--------------------+----------------+----------+\n",
            "|  1070968|Ultimate Investme...|https://www.udemy...|   True|  200|           2147|         23|          51|             1.5|2017-01-18T20:58:58Z|Business Finance|All Levels|\n",
            "|  1113822|Complete GST Cour...|https://www.udemy...|   True|   75|           2792|        923|         274|            39.0|2017-03-09T16:34:20Z|Business Finance|All Levels|\n",
            "|  1210588|Beginner to Pro -...|https://www.udemy...|   True|   95|           2451|         11|          36|             3.0|2017-05-30T20:07:24Z|Business Finance|All Levels|\n",
            "|   192870|Trading Penny Sto...|https://www.udemy...|   True|  150|           9221|        138|          25|             3.0|2014-05-02T15:13:30Z|Business Finance|All Levels|\n",
            "|   403100|Trading Stock Cha...|https://www.udemy...|   True|   95|           2917|        148|          23|             2.5|2015-01-30T22:13:03Z|Business Finance|All Levels|\n",
            "|  1167710|The Only Investme...|https://www.udemy...|   True|  200|            827|         14|          15|             1.0|2017-04-18T18:13:32Z|Business Finance|All Levels|\n",
            "|   592338|Forex Trading Sec...|https://www.udemy...|   True|  200|           4284|         93|          76|             5.0|2015-09-11T16:47:02Z|Business Finance|All Levels|\n",
            "|   975046|Trading Options W...|https://www.udemy...|   True|  200|           1380|         42|          17|             1.0|2016-10-18T22:52:31Z|Business Finance|All Levels|\n",
            "|   742602|Financial Managem...|https://www.udemy...|   True|   30|           3607|         21|          19|             1.5|2016-02-03T18:04:01Z|Business Finance|All Levels|\n",
            "|   794151|Forex Trading Cou...|https://www.udemy...|   True|  195|           4061|         52|          16|             2.0|2016-03-16T15:40:19Z|Business Finance|All Levels|\n",
            "|  1196544|Python Algo Tradi...|https://www.udemy...|   True|  200|            294|         19|          42|             7.0|2017-04-28T16:41:44Z|Business Finance|All Levels|\n",
            "|   564966|The Complete Char...|https://www.udemy...|   True|  200|           2666|        115|          52|             4.0|2015-08-10T21:07:35Z|Business Finance|All Levels|\n",
            "|   606928|7 Deadly Mistakes...|https://www.udemy...|   True|   50|           5354|         24|          23|             1.5|2015-09-21T18:10:34Z|Business Finance|All Levels|\n",
            "|  1242604|Winning Forex Tra...|https://www.udemy...|   True|  200|            809|          3|          25|             2.0|2017-06-06T02:54:04Z|Business Finance|All Levels|\n",
            "|   798740|Forex Traders - C...|https://www.udemy...|   True|  200|           2295|         84|          39|             4.0|2016-05-02T19:26:48Z|Business Finance|All Levels|\n",
            "|   506568|Create A Business...|https://www.udemy...|   True|   75|          10149|         83|          16|             2.0|2015-05-26T17:25:46Z|Business Finance|All Levels|\n",
            "|   859742|The Complete Ethe...|https://www.udemy...|   True|   45|           2507|        333|          40|             2.0|2016-05-30T18:53:46Z|Business Finance|All Levels|\n",
            "|   383414|Beginner to Pro i...|https://www.udemy...|   True|  150|           5786|        518|          50|             5.0|2015-01-31T15:34:05Z|Business Finance|All Levels|\n",
            "|   353044|Investing 101: Th...|https://www.udemy...|   True|  200|           5334|        373|          42|             4.5|2014-11-28T17:49:03Z|Business Finance|All Levels|\n",
            "|   831066|Learn MQL5: Build...|https://www.udemy...|   True|  150|           2877|        103|          81|             4.5|2016-04-26T22:41:46Z|Business Finance|All Levels|\n",
            "+---------+--------------------+--------------------+-------+-----+---------------+-----------+------------+----------------+--------------------+----------------+----------+\n",
            "only showing top 20 rows\n",
            "\n"
          ]
        }
      ]
    },
    {
      "cell_type": "code",
      "source": [
        "df2 = spark.read.parquet('/content/hmc_project/table/*')"
      ],
      "metadata": {
        "id": "BCd0Li1twHli"
      },
      "execution_count": null,
      "outputs": []
    },
    {
      "cell_type": "code",
      "source": [
        "df2.show()"
      ],
      "metadata": {
        "colab": {
          "base_uri": "https://localhost:8080/"
        },
        "id": "blAtzVfCwq5e",
        "outputId": "c287ddbd-d06d-48b0-e089-8046975fba0b"
      },
      "execution_count": null,
      "outputs": [
        {
          "output_type": "stream",
          "name": "stdout",
          "text": [
            "+---------+--------------------+--------------------+-------+-----+---------------+-----------+------------+----------------+--------------------+----------------+\n",
            "|course_id|        course_title|                 url|is_paid|price|num_subscribers|num_reviews|num_lectures|content_duration| published_timestamp|         subject|\n",
            "+---------+--------------------+--------------------+-------+-----+---------------+-----------+------------+----------------+--------------------+----------------+\n",
            "|  1070968|Ultimate Investme...|https://www.udemy...|   True|  200|           2147|         23|          51|             1.5|2017-01-18T20:58:58Z|Business Finance|\n",
            "|  1113822|Complete GST Cour...|https://www.udemy...|   True|   75|           2792|        923|         274|            39.0|2017-03-09T16:34:20Z|Business Finance|\n",
            "|  1210588|Beginner to Pro -...|https://www.udemy...|   True|   95|           2451|         11|          36|             3.0|2017-05-30T20:07:24Z|Business Finance|\n",
            "|   192870|Trading Penny Sto...|https://www.udemy...|   True|  150|           9221|        138|          25|             3.0|2014-05-02T15:13:30Z|Business Finance|\n",
            "|   403100|Trading Stock Cha...|https://www.udemy...|   True|   95|           2917|        148|          23|             2.5|2015-01-30T22:13:03Z|Business Finance|\n",
            "|  1167710|The Only Investme...|https://www.udemy...|   True|  200|            827|         14|          15|             1.0|2017-04-18T18:13:32Z|Business Finance|\n",
            "|   592338|Forex Trading Sec...|https://www.udemy...|   True|  200|           4284|         93|          76|             5.0|2015-09-11T16:47:02Z|Business Finance|\n",
            "|   975046|Trading Options W...|https://www.udemy...|   True|  200|           1380|         42|          17|             1.0|2016-10-18T22:52:31Z|Business Finance|\n",
            "|   742602|Financial Managem...|https://www.udemy...|   True|   30|           3607|         21|          19|             1.5|2016-02-03T18:04:01Z|Business Finance|\n",
            "|   794151|Forex Trading Cou...|https://www.udemy...|   True|  195|           4061|         52|          16|             2.0|2016-03-16T15:40:19Z|Business Finance|\n",
            "|  1196544|Python Algo Tradi...|https://www.udemy...|   True|  200|            294|         19|          42|             7.0|2017-04-28T16:41:44Z|Business Finance|\n",
            "|   564966|The Complete Char...|https://www.udemy...|   True|  200|           2666|        115|          52|             4.0|2015-08-10T21:07:35Z|Business Finance|\n",
            "|   606928|7 Deadly Mistakes...|https://www.udemy...|   True|   50|           5354|         24|          23|             1.5|2015-09-21T18:10:34Z|Business Finance|\n",
            "|  1242604|Winning Forex Tra...|https://www.udemy...|   True|  200|            809|          3|          25|             2.0|2017-06-06T02:54:04Z|Business Finance|\n",
            "|   798740|Forex Traders - C...|https://www.udemy...|   True|  200|           2295|         84|          39|             4.0|2016-05-02T19:26:48Z|Business Finance|\n",
            "|   506568|Create A Business...|https://www.udemy...|   True|   75|          10149|         83|          16|             2.0|2015-05-26T17:25:46Z|Business Finance|\n",
            "|   859742|The Complete Ethe...|https://www.udemy...|   True|   45|           2507|        333|          40|             2.0|2016-05-30T18:53:46Z|Business Finance|\n",
            "|   383414|Beginner to Pro i...|https://www.udemy...|   True|  150|           5786|        518|          50|             5.0|2015-01-31T15:34:05Z|Business Finance|\n",
            "|   353044|Investing 101: Th...|https://www.udemy...|   True|  200|           5334|        373|          42|             4.5|2014-11-28T17:49:03Z|Business Finance|\n",
            "|   831066|Learn MQL5: Build...|https://www.udemy...|   True|  150|           2877|        103|          81|             4.5|2016-04-26T22:41:46Z|Business Finance|\n",
            "+---------+--------------------+--------------------+-------+-----+---------------+-----------+------------+----------------+--------------------+----------------+\n",
            "only showing top 20 rows\n",
            "\n"
          ]
        }
      ]
    },
    {
      "cell_type": "code",
      "source": [
        "df.write.mode('overwrite').partitionBy('level').bucketBy(10,'course_id').option('path', '/content/hmc_project/table1').saveAsTable('Table1')"
      ],
      "metadata": {
        "id": "uhHC2JUwwtEH"
      },
      "execution_count": null,
      "outputs": []
    },
    {
      "cell_type": "code",
      "source": [],
      "metadata": {
        "id": "mv4MuNR1xniK"
      },
      "execution_count": null,
      "outputs": []
    }
  ]
}